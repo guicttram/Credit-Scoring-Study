{
 "cells": [
  {
   "cell_type": "markdown",
   "metadata": {},
   "source": [
    "# MUTUAL - Credit Scoring\n",
    "## Projeto de Processo Seletivo\n",
    "### Autor: Guilherme Ceratti Ramos"
   ]
  },
  {
   "cell_type": "code",
   "execution_count": 1,
   "metadata": {},
   "outputs": [],
   "source": [
    "# Instalar os pacotes comuns\n",
    "\n",
    "#!pip install -U pandas\n",
    "#!pip install -U numpy\n",
    "#!pip install -U seaborn\n",
    "#!pip install -U matplotlib\n",
    "#!pip install -U scikit-learn"
   ]
  },
  {
   "cell_type": "code",
   "execution_count": 2,
   "metadata": {},
   "outputs": [],
   "source": [
    "# Importar pacotes comuns\n",
    "\n",
    "import os\n",
    "import pandas as pd\n",
    "import numpy as np\n",
    "import seaborn as sns\n",
    "import matplotlib.pyplot as plt"
   ]
  },
  {
   "cell_type": "code",
   "execution_count": 3,
   "metadata": {},
   "outputs": [],
   "source": [
    "# Selecionando o arquivo\n",
    "filepath = os.path.abspath('MutualClients.csv')\n",
    "df = pd.read_csv(filepath, index_col=0)"
   ]
  },
  {
   "cell_type": "markdown",
   "metadata": {},
   "source": [
    "Explorar o arquivo, entender os dados"
   ]
  },
  {
   "cell_type": "code",
   "execution_count": 4,
   "metadata": {},
   "outputs": [
    {
     "data": {
      "text/html": [
       "<div>\n",
       "<style scoped>\n",
       "    .dataframe tbody tr th:only-of-type {\n",
       "        vertical-align: middle;\n",
       "    }\n",
       "\n",
       "    .dataframe tbody tr th {\n",
       "        vertical-align: top;\n",
       "    }\n",
       "\n",
       "    .dataframe thead th {\n",
       "        text-align: right;\n",
       "    }\n",
       "</style>\n",
       "<table border=\"1\" class=\"dataframe\">\n",
       "  <thead>\n",
       "    <tr style=\"text-align: right;\">\n",
       "      <th></th>\n",
       "      <th>clientId</th>\n",
       "      <th>shopId</th>\n",
       "      <th>gender</th>\n",
       "      <th>maritalStatus</th>\n",
       "      <th>age</th>\n",
       "      <th>numberOfDependents</th>\n",
       "      <th>education</th>\n",
       "      <th>flagResidencialPhone</th>\n",
       "      <th>areaCodeResidencialPhone</th>\n",
       "      <th>bestPaymentDay</th>\n",
       "      <th>...</th>\n",
       "      <th>professionCode</th>\n",
       "      <th>mateIncome</th>\n",
       "      <th>flagResidencialAddress_PostalAddress</th>\n",
       "      <th>flagOtherCard</th>\n",
       "      <th>quantityBankingAccounts</th>\n",
       "      <th>flagMobilePhone</th>\n",
       "      <th>flagContactPhone</th>\n",
       "      <th>personalNetIncome</th>\n",
       "      <th>codeApplicationBooth</th>\n",
       "      <th>BAD</th>\n",
       "    </tr>\n",
       "  </thead>\n",
       "  <tbody>\n",
       "    <tr>\n",
       "      <th>1</th>\n",
       "      <td>2</td>\n",
       "      <td>15</td>\n",
       "      <td>F</td>\n",
       "      <td>S</td>\n",
       "      <td>18</td>\n",
       "      <td>0</td>\n",
       "      <td>NaN</td>\n",
       "      <td>Y</td>\n",
       "      <td>31</td>\n",
       "      <td>20</td>\n",
       "      <td>...</td>\n",
       "      <td>853</td>\n",
       "      <td>0.0</td>\n",
       "      <td>Y</td>\n",
       "      <td>N</td>\n",
       "      <td>0</td>\n",
       "      <td>N</td>\n",
       "      <td>N</td>\n",
       "      <td>300.0</td>\n",
       "      <td>0</td>\n",
       "      <td>0</td>\n",
       "    </tr>\n",
       "    <tr>\n",
       "      <th>2</th>\n",
       "      <td>4</td>\n",
       "      <td>12</td>\n",
       "      <td>F</td>\n",
       "      <td>C</td>\n",
       "      <td>47</td>\n",
       "      <td>0</td>\n",
       "      <td>NaN</td>\n",
       "      <td>N</td>\n",
       "      <td>31</td>\n",
       "      <td>25</td>\n",
       "      <td>...</td>\n",
       "      <td>35</td>\n",
       "      <td>0.0</td>\n",
       "      <td>Y</td>\n",
       "      <td>N</td>\n",
       "      <td>0</td>\n",
       "      <td>N</td>\n",
       "      <td>N</td>\n",
       "      <td>304.0</td>\n",
       "      <td>0</td>\n",
       "      <td>0</td>\n",
       "    </tr>\n",
       "    <tr>\n",
       "      <th>3</th>\n",
       "      <td>5</td>\n",
       "      <td>16</td>\n",
       "      <td>F</td>\n",
       "      <td>S</td>\n",
       "      <td>28</td>\n",
       "      <td>0</td>\n",
       "      <td>NaN</td>\n",
       "      <td>Y</td>\n",
       "      <td>31</td>\n",
       "      <td>25</td>\n",
       "      <td>...</td>\n",
       "      <td>24</td>\n",
       "      <td>0.0</td>\n",
       "      <td>Y</td>\n",
       "      <td>N</td>\n",
       "      <td>0</td>\n",
       "      <td>N</td>\n",
       "      <td>N</td>\n",
       "      <td>250.0</td>\n",
       "      <td>0</td>\n",
       "      <td>0</td>\n",
       "    </tr>\n",
       "    <tr>\n",
       "      <th>4</th>\n",
       "      <td>6</td>\n",
       "      <td>24</td>\n",
       "      <td>M</td>\n",
       "      <td>S</td>\n",
       "      <td>26</td>\n",
       "      <td>0</td>\n",
       "      <td>NaN</td>\n",
       "      <td>N</td>\n",
       "      <td>31</td>\n",
       "      <td>28</td>\n",
       "      <td>...</td>\n",
       "      <td>999</td>\n",
       "      <td>0.0</td>\n",
       "      <td>Y</td>\n",
       "      <td>N</td>\n",
       "      <td>0</td>\n",
       "      <td>N</td>\n",
       "      <td>N</td>\n",
       "      <td>800.0</td>\n",
       "      <td>0</td>\n",
       "      <td>0</td>\n",
       "    </tr>\n",
       "    <tr>\n",
       "      <th>5</th>\n",
       "      <td>7</td>\n",
       "      <td>55</td>\n",
       "      <td>F</td>\n",
       "      <td>S</td>\n",
       "      <td>22</td>\n",
       "      <td>0</td>\n",
       "      <td>NaN</td>\n",
       "      <td>Y</td>\n",
       "      <td>31</td>\n",
       "      <td>12</td>\n",
       "      <td>...</td>\n",
       "      <td>999</td>\n",
       "      <td>0.0</td>\n",
       "      <td>Y</td>\n",
       "      <td>N</td>\n",
       "      <td>0</td>\n",
       "      <td>N</td>\n",
       "      <td>N</td>\n",
       "      <td>410.0</td>\n",
       "      <td>0</td>\n",
       "      <td>0</td>\n",
       "    </tr>\n",
       "    <tr>\n",
       "      <th>...</th>\n",
       "      <td>...</td>\n",
       "      <td>...</td>\n",
       "      <td>...</td>\n",
       "      <td>...</td>\n",
       "      <td>...</td>\n",
       "      <td>...</td>\n",
       "      <td>...</td>\n",
       "      <td>...</td>\n",
       "      <td>...</td>\n",
       "      <td>...</td>\n",
       "      <td>...</td>\n",
       "      <td>...</td>\n",
       "      <td>...</td>\n",
       "      <td>...</td>\n",
       "      <td>...</td>\n",
       "      <td>...</td>\n",
       "      <td>...</td>\n",
       "      <td>...</td>\n",
       "      <td>...</td>\n",
       "      <td>...</td>\n",
       "      <td>...</td>\n",
       "    </tr>\n",
       "    <tr>\n",
       "      <th>39996</th>\n",
       "      <td>49994</td>\n",
       "      <td>1</td>\n",
       "      <td>M</td>\n",
       "      <td>C</td>\n",
       "      <td>29</td>\n",
       "      <td>0</td>\n",
       "      <td>NaN</td>\n",
       "      <td>Y</td>\n",
       "      <td>31</td>\n",
       "      <td>12</td>\n",
       "      <td>...</td>\n",
       "      <td>305</td>\n",
       "      <td>0.0</td>\n",
       "      <td>Y</td>\n",
       "      <td>N</td>\n",
       "      <td>0</td>\n",
       "      <td>N</td>\n",
       "      <td>N</td>\n",
       "      <td>796.0</td>\n",
       "      <td>0</td>\n",
       "      <td>1</td>\n",
       "    </tr>\n",
       "    <tr>\n",
       "      <th>39997</th>\n",
       "      <td>49995</td>\n",
       "      <td>12</td>\n",
       "      <td>F</td>\n",
       "      <td>S</td>\n",
       "      <td>20</td>\n",
       "      <td>0</td>\n",
       "      <td>NaN</td>\n",
       "      <td>Y</td>\n",
       "      <td>31</td>\n",
       "      <td>20</td>\n",
       "      <td>...</td>\n",
       "      <td>712</td>\n",
       "      <td>0.0</td>\n",
       "      <td>Y</td>\n",
       "      <td>N</td>\n",
       "      <td>0</td>\n",
       "      <td>N</td>\n",
       "      <td>N</td>\n",
       "      <td>200.0</td>\n",
       "      <td>0</td>\n",
       "      <td>0</td>\n",
       "    </tr>\n",
       "    <tr>\n",
       "      <th>39998</th>\n",
       "      <td>49996</td>\n",
       "      <td>19</td>\n",
       "      <td>M</td>\n",
       "      <td>S</td>\n",
       "      <td>21</td>\n",
       "      <td>0</td>\n",
       "      <td>NaN</td>\n",
       "      <td>Y</td>\n",
       "      <td>31</td>\n",
       "      <td>12</td>\n",
       "      <td>...</td>\n",
       "      <td>218</td>\n",
       "      <td>0.0</td>\n",
       "      <td>Y</td>\n",
       "      <td>N</td>\n",
       "      <td>0</td>\n",
       "      <td>N</td>\n",
       "      <td>N</td>\n",
       "      <td>234.0</td>\n",
       "      <td>0</td>\n",
       "      <td>0</td>\n",
       "    </tr>\n",
       "    <tr>\n",
       "      <th>39999</th>\n",
       "      <td>49998</td>\n",
       "      <td>23</td>\n",
       "      <td>F</td>\n",
       "      <td>S</td>\n",
       "      <td>23</td>\n",
       "      <td>0</td>\n",
       "      <td>NaN</td>\n",
       "      <td>Y</td>\n",
       "      <td>31</td>\n",
       "      <td>28</td>\n",
       "      <td>...</td>\n",
       "      <td>991</td>\n",
       "      <td>0.0</td>\n",
       "      <td>Y</td>\n",
       "      <td>N</td>\n",
       "      <td>0</td>\n",
       "      <td>N</td>\n",
       "      <td>N</td>\n",
       "      <td>240.0</td>\n",
       "      <td>0</td>\n",
       "      <td>1</td>\n",
       "    </tr>\n",
       "    <tr>\n",
       "      <th>40000</th>\n",
       "      <td>50000</td>\n",
       "      <td>22</td>\n",
       "      <td>M</td>\n",
       "      <td>S</td>\n",
       "      <td>29</td>\n",
       "      <td>0</td>\n",
       "      <td>NaN</td>\n",
       "      <td>Y</td>\n",
       "      <td>31</td>\n",
       "      <td>23</td>\n",
       "      <td>...</td>\n",
       "      <td>26</td>\n",
       "      <td>0.0</td>\n",
       "      <td>Y</td>\n",
       "      <td>N</td>\n",
       "      <td>0</td>\n",
       "      <td>N</td>\n",
       "      <td>N</td>\n",
       "      <td>341.0</td>\n",
       "      <td>0</td>\n",
       "      <td>0</td>\n",
       "    </tr>\n",
       "  </tbody>\n",
       "</table>\n",
       "<p>40000 rows × 28 columns</p>\n",
       "</div>"
      ],
      "text/plain": [
       "       clientId  shopId gender maritalStatus  age  numberOfDependents  \\\n",
       "1             2      15      F             S   18                   0   \n",
       "2             4      12      F             C   47                   0   \n",
       "3             5      16      F             S   28                   0   \n",
       "4             6      24      M             S   26                   0   \n",
       "5             7      55      F             S   22                   0   \n",
       "...         ...     ...    ...           ...  ...                 ...   \n",
       "39996     49994       1      M             C   29                   0   \n",
       "39997     49995      12      F             S   20                   0   \n",
       "39998     49996      19      M             S   21                   0   \n",
       "39999     49998      23      F             S   23                   0   \n",
       "40000     50000      22      M             S   29                   0   \n",
       "\n",
       "       education flagResidencialPhone  areaCodeResidencialPhone  \\\n",
       "1            NaN                    Y                        31   \n",
       "2            NaN                    N                        31   \n",
       "3            NaN                    Y                        31   \n",
       "4            NaN                    N                        31   \n",
       "5            NaN                    Y                        31   \n",
       "...          ...                  ...                       ...   \n",
       "39996        NaN                    Y                        31   \n",
       "39997        NaN                    Y                        31   \n",
       "39998        NaN                    Y                        31   \n",
       "39999        NaN                    Y                        31   \n",
       "40000        NaN                    Y                        31   \n",
       "\n",
       "       bestPaymentDay  ...  professionCode mateIncome  \\\n",
       "1                  20  ...             853        0.0   \n",
       "2                  25  ...              35        0.0   \n",
       "3                  25  ...              24        0.0   \n",
       "4                  28  ...             999        0.0   \n",
       "5                  12  ...             999        0.0   \n",
       "...               ...  ...             ...        ...   \n",
       "39996              12  ...             305        0.0   \n",
       "39997              20  ...             712        0.0   \n",
       "39998              12  ...             218        0.0   \n",
       "39999              28  ...             991        0.0   \n",
       "40000              23  ...              26        0.0   \n",
       "\n",
       "       flagResidencialAddress_PostalAddress flagOtherCard  \\\n",
       "1                                         Y             N   \n",
       "2                                         Y             N   \n",
       "3                                         Y             N   \n",
       "4                                         Y             N   \n",
       "5                                         Y             N   \n",
       "...                                     ...           ...   \n",
       "39996                                     Y             N   \n",
       "39997                                     Y             N   \n",
       "39998                                     Y             N   \n",
       "39999                                     Y             N   \n",
       "40000                                     Y             N   \n",
       "\n",
       "      quantityBankingAccounts flagMobilePhone flagContactPhone  \\\n",
       "1                           0               N                N   \n",
       "2                           0               N                N   \n",
       "3                           0               N                N   \n",
       "4                           0               N                N   \n",
       "5                           0               N                N   \n",
       "...                       ...             ...              ...   \n",
       "39996                       0               N                N   \n",
       "39997                       0               N                N   \n",
       "39998                       0               N                N   \n",
       "39999                       0               N                N   \n",
       "40000                       0               N                N   \n",
       "\n",
       "       personalNetIncome  codeApplicationBooth  BAD  \n",
       "1                  300.0                     0    0  \n",
       "2                  304.0                     0    0  \n",
       "3                  250.0                     0    0  \n",
       "4                  800.0                     0    0  \n",
       "5                  410.0                     0    0  \n",
       "...                  ...                   ...  ...  \n",
       "39996              796.0                     0    1  \n",
       "39997              200.0                     0    0  \n",
       "39998              234.0                     0    0  \n",
       "39999              240.0                     0    1  \n",
       "40000              341.0                     0    0  \n",
       "\n",
       "[40000 rows x 28 columns]"
      ]
     },
     "execution_count": 4,
     "metadata": {},
     "output_type": "execute_result"
    }
   ],
   "source": [
    "df"
   ]
  },
  {
   "cell_type": "code",
   "execution_count": 5,
   "metadata": {},
   "outputs": [
    {
     "data": {
      "text/plain": [
       "Index(['clientId', 'shopId', 'gender', 'maritalStatus', 'age',\n",
       "       'numberOfDependents', 'education', 'flagResidencialPhone',\n",
       "       'areaCodeResidencialPhone', 'bestPaymentDay', 'shopRank',\n",
       "       'residenceType', 'monthsInResidence', 'flagMothersName',\n",
       "       'flagFathersName', 'flagResidenceTown_WorkingTown',\n",
       "       'flagResidenceState_WorkingState', 'monthsInTheJob', 'professionCode',\n",
       "       'mateIncome', 'flagResidencialAddress_PostalAddress', 'flagOtherCard',\n",
       "       'quantityBankingAccounts', 'flagMobilePhone', 'flagContactPhone',\n",
       "       'personalNetIncome', 'codeApplicationBooth', 'BAD'],\n",
       "      dtype='object')"
      ]
     },
     "execution_count": 5,
     "metadata": {},
     "output_type": "execute_result"
    }
   ],
   "source": [
    "df.columns"
   ]
  },
  {
   "cell_type": "code",
   "execution_count": 6,
   "metadata": {},
   "outputs": [
    {
     "name": "stdout",
     "output_type": "stream",
     "text": [
      "<class 'pandas.core.frame.DataFrame'>\n",
      "Int64Index: 40000 entries, 1 to 40000\n",
      "Data columns (total 28 columns):\n",
      " #   Column                                Non-Null Count  Dtype  \n",
      "---  ------                                --------------  -----  \n",
      " 0   clientId                              40000 non-null  int64  \n",
      " 1   shopId                                40000 non-null  int64  \n",
      " 2   gender                                39997 non-null  object \n",
      " 3   maritalStatus                         40000 non-null  object \n",
      " 4   age                                   40000 non-null  int64  \n",
      " 5   numberOfDependents                    40000 non-null  int64  \n",
      " 6   education                             0 non-null      float64\n",
      " 7   flagResidencialPhone                  40000 non-null  object \n",
      " 8   areaCodeResidencialPhone              40000 non-null  int64  \n",
      " 9   bestPaymentDay                        40000 non-null  int64  \n",
      " 10  shopRank                              40000 non-null  int64  \n",
      " 11  residenceType                         40000 non-null  object \n",
      " 12  monthsInResidence                     40000 non-null  int64  \n",
      " 13  flagMothersName                       40000 non-null  object \n",
      " 14  flagFathersName                       40000 non-null  object \n",
      " 15  flagResidenceTown_WorkingTown         40000 non-null  object \n",
      " 16  flagResidenceState_WorkingState       40000 non-null  object \n",
      " 17  monthsInTheJob                        40000 non-null  int64  \n",
      " 18  professionCode                        40000 non-null  int64  \n",
      " 19  mateIncome                            40000 non-null  float64\n",
      " 20  flagResidencialAddress_PostalAddress  40000 non-null  object \n",
      " 21  flagOtherCard                         40000 non-null  object \n",
      " 22  quantityBankingAccounts               40000 non-null  int64  \n",
      " 23  flagMobilePhone                       40000 non-null  object \n",
      " 24  flagContactPhone                      40000 non-null  object \n",
      " 25  personalNetIncome                     40000 non-null  float64\n",
      " 26  codeApplicationBooth                  40000 non-null  int64  \n",
      " 27  BAD                                   40000 non-null  int64  \n",
      "dtypes: float64(3), int64(13), object(12)\n",
      "memory usage: 8.9+ MB\n"
     ]
    }
   ],
   "source": [
    "df.info()"
   ]
  },
  {
   "cell_type": "markdown",
   "metadata": {},
   "source": [
    "Pra ter uma noção melhor dos dados, vamos ver a proporção dos clientes inadimplentes para os não-inadimplementes."
   ]
  },
  {
   "cell_type": "code",
   "execution_count": 7,
   "metadata": {},
   "outputs": [
    {
     "data": {
      "image/png": "[encoded data removed]",
      "text/plain": [
       "<Figure size 432x288 with 1 Axes>"
      ]
     },
     "metadata": {
      "needs_background": "light"
     },
     "output_type": "display_data"
    }
   ],
   "source": [
    "colors = ['green', 'red']\n",
    "g = sns.countplot(\n",
    "    x='BAD',\n",
    "    data=df,\n",
    "    palette=colors\n",
    ")"
   ]
  },
  {
   "cell_type": "markdown",
   "metadata": {},
   "source": [
    "Há muito mais clientes não-inadimplentes nesse cenário. Precisamos realizar uma análise e entender quais colunas se relacionam mais com a inadimplência ou não de um cliente. Primeiro, vamos verificar se existem valores nulos e, em caso afirmativo, em quais colunas."
   ]
  },
  {
   "cell_type": "code",
   "execution_count": 8,
   "metadata": {},
   "outputs": [
    {
     "data": {
      "text/plain": [
       "clientId                                    0\n",
       "shopId                                      0\n",
       "gender                                      3\n",
       "maritalStatus                               0\n",
       "age                                         0\n",
       "numberOfDependents                          0\n",
       "education                               40000\n",
       "flagResidencialPhone                        0\n",
       "areaCodeResidencialPhone                    0\n",
       "bestPaymentDay                              0\n",
       "shopRank                                    0\n",
       "residenceType                               0\n",
       "monthsInResidence                           0\n",
       "flagMothersName                             0\n",
       "flagFathersName                             0\n",
       "flagResidenceTown_WorkingTown               0\n",
       "flagResidenceState_WorkingState             0\n",
       "monthsInTheJob                              0\n",
       "professionCode                              0\n",
       "mateIncome                                  0\n",
       "flagResidencialAddress_PostalAddress        0\n",
       "flagOtherCard                               0\n",
       "quantityBankingAccounts                     0\n",
       "flagMobilePhone                             0\n",
       "flagContactPhone                            0\n",
       "personalNetIncome                           0\n",
       "codeApplicationBooth                        0\n",
       "BAD                                         0\n",
       "dtype: int64"
      ]
     },
     "execution_count": 8,
     "metadata": {},
     "output_type": "execute_result"
    }
   ],
   "source": [
    "df.isnull().sum()"
   ]
  },
  {
   "cell_type": "markdown",
   "metadata": {},
   "source": [
    "Quem diria, parece que educação é NaN para todos os clientes, provavelmente por algum problema na coleta desses dados. Uma pena, pois era uma feature promissora. Porém, isso significa que será uma coluna a ser retirada na construção do modelo preditivo. Já gênero possui apenas três valores nulos, o que indica um problema apenas naqueles registros. Como o dataset é grande, irei optar por remover esses registros."
   ]
  },
  {
   "cell_type": "code",
   "execution_count": 9,
   "metadata": {},
   "outputs": [],
   "source": [
    "df.dropna(subset=['gender'], inplace=True)"
   ]
  },
  {
   "cell_type": "code",
   "execution_count": 10,
   "metadata": {},
   "outputs": [],
   "source": [
    "df.drop('education', axis=1, inplace=True)"
   ]
  },
  {
   "cell_type": "code",
   "execution_count": 11,
   "metadata": {},
   "outputs": [
    {
     "data": {
      "text/plain": [
       "clientId                                0\n",
       "shopId                                  0\n",
       "gender                                  0\n",
       "maritalStatus                           0\n",
       "age                                     0\n",
       "numberOfDependents                      0\n",
       "flagResidencialPhone                    0\n",
       "areaCodeResidencialPhone                0\n",
       "bestPaymentDay                          0\n",
       "shopRank                                0\n",
       "residenceType                           0\n",
       "monthsInResidence                       0\n",
       "flagMothersName                         0\n",
       "flagFathersName                         0\n",
       "flagResidenceTown_WorkingTown           0\n",
       "flagResidenceState_WorkingState         0\n",
       "monthsInTheJob                          0\n",
       "professionCode                          0\n",
       "mateIncome                              0\n",
       "flagResidencialAddress_PostalAddress    0\n",
       "flagOtherCard                           0\n",
       "quantityBankingAccounts                 0\n",
       "flagMobilePhone                         0\n",
       "flagContactPhone                        0\n",
       "personalNetIncome                       0\n",
       "codeApplicationBooth                    0\n",
       "BAD                                     0\n",
       "dtype: int64"
      ]
     },
     "execution_count": 11,
     "metadata": {},
     "output_type": "execute_result"
    }
   ],
   "source": [
    "df.isnull().sum()"
   ]
  },
  {
   "cell_type": "markdown",
   "metadata": {},
   "source": [
    "Agora que removemos valores nulos, nossa preocupação seria valores 0, ou extremamente repetidos (o mesmo valor em todos os registros pra algo que deveria, logicamente, variar). Vamos conferir quais colunas possuem apenas o mesmo valor em todos os registros."
   ]
  },
  {
   "cell_type": "code",
   "execution_count": 12,
   "metadata": {},
   "outputs": [
    {
     "name": "stdout",
     "output_type": "stream",
     "text": [
      "Coluna numberOfDependents, valor unico: [0]\n",
      "Coluna flagOtherCard, valor unico: ['N']\n",
      "Coluna quantityBankingAccounts, valor unico: [0]\n",
      "Coluna flagMobilePhone, valor unico: ['N']\n",
      "Coluna flagContactPhone, valor unico: ['N']\n",
      "Coluna codeApplicationBooth, valor unico: [0]\n"
     ]
    },
    {
     "data": {
      "text/plain": [
       "['numberOfDependents',\n",
       " 'flagOtherCard',\n",
       " 'quantityBankingAccounts',\n",
       " 'flagMobilePhone',\n",
       " 'flagContactPhone',\n",
       " 'codeApplicationBooth']"
      ]
     },
     "execution_count": 12,
     "metadata": {},
     "output_type": "execute_result"
    }
   ],
   "source": [
    "repeated_values_cols = []\n",
    "for col in df.columns:\n",
    "    if len(df[col].unique()) == 1:\n",
    "        repeated_values_cols.append(df[col].name)\n",
    "        print(f'Coluna {col}, valor unico: {df[col].unique()}')\n",
    "repeated_values_cols"
   ]
  },
  {
   "cell_type": "markdown",
   "metadata": {},
   "source": [
    "Colunas com apenas um valor não ajudam em nada o modelo a prever algo, portanto essas colunas também serão removidas. "
   ]
  },
  {
   "cell_type": "code",
   "execution_count": 13,
   "metadata": {},
   "outputs": [],
   "source": [
    "df.drop(repeated_values_cols, axis=1, inplace=True)"
   ]
  },
  {
   "cell_type": "markdown",
   "metadata": {},
   "source": [
    "A coluna clientId não é útil para nós, já que se trata apenas de um identificador, e apenas confundiria o modelo."
   ]
  },
  {
   "cell_type": "code",
   "execution_count": 14,
   "metadata": {},
   "outputs": [],
   "source": [
    "df.drop('clientId', axis=1, inplace=True)"
   ]
  },
  {
   "cell_type": "markdown",
   "metadata": {},
   "source": [
    "Enquanto clientId não pode ser aproveitada, shopId pode funcionar de maneira diferente. Hipótese: clientes de uma determinada loja podem ser mais inadimplentes, seja pela localização ou diversos outros fatores. Vamos testar"
   ]
  },
  {
   "cell_type": "code",
   "execution_count": 15,
   "metadata": {},
   "outputs": [
    {
     "data": {
      "image/png": "[encoded data removed]",
      "text/plain": [
       "<Figure size 756x504 with 1 Axes>"
      ]
     },
     "metadata": {
      "needs_background": "light"
     },
     "output_type": "display_data"
    }
   ],
   "source": [
    "colors = ['green', 'red']\n",
    "g = sns.catplot(        \n",
    "    x='shopId',   \n",
    "    data=df,\n",
    "    kind='count',      \n",
    "    hue='BAD', \n",
    "    palette=colors,   \n",
    "    height=7,        \n",
    "    aspect=1.5,        \n",
    "    legend=False,       \n",
    "    ).set_axis_labels('Loja', '# de inadimplentes')\n",
    "\n",
    "g.ax.legend(loc='upper center', bbox_to_anchor=(0.5, 1.1), shadow=True, ncol=2, labels=['Não-Inadimplentes', 'Inadimplentes'])\n",
    "plt.show()"
   ]
  },
  {
   "cell_type": "markdown",
   "metadata": {},
   "source": [
    "A primeira vista, parece que as lojas tem uma diferença de clientes BAD para não-BAD entre si. Porém, essa tendência deve ser analisada pensando na quantidade total de clientes por loja. Portanto, essa coluna será mantida no modelo final."
   ]
  },
  {
   "cell_type": "code",
   "execution_count": 16,
   "metadata": {},
   "outputs": [
    {
     "data": {
      "text/plain": [
       "<AxesSubplot:xlabel='gender', ylabel='BAD'>"
      ]
     },
     "execution_count": 16,
     "metadata": {},
     "output_type": "execute_result"
    },
    {
     "data": {
      "image/png": "[encoded data removed]",
      "text/plain": [
       "<Figure size 432x288 with 1 Axes>"
      ]
     },
     "metadata": {
      "needs_background": "light"
     },
     "output_type": "display_data"
    }
   ],
   "source": [
    "sns.barplot(x=\"gender\",\n",
    "           y=\"BAD\",   # Set cus    # This allows for the separation of the plots\n",
    "           data=df)"
   ]
  },
  {
   "cell_type": "markdown",
   "metadata": {},
   "source": [
    "A difereça entre os inadimplentes por gênero é pequena. A featura será removida do dataset não apenas por isso, mas porque é uma característica que pode levar a um modelo que preveja possíveis inadimplentes de modo injusto."
   ]
  },
  {
   "cell_type": "code",
   "execution_count": 17,
   "metadata": {},
   "outputs": [],
   "source": [
    "df.drop('gender', axis=1, inplace=True)"
   ]
  },
  {
   "cell_type": "markdown",
   "metadata": {},
   "source": [
    "Percebo que determinadas colunas se mostram categóricas, posteriormente podendo ser transformadas e pré-processadas de mono numérico. Salvaremos essa informação para mais tarde. Agora, vamos ver como as colunas se correlacionam entre si, para descobrir há alguma correlação muito exagerada que pode interferir no modelo."
   ]
  },
  {
   "cell_type": "code",
   "execution_count": 18,
   "metadata": {},
   "outputs": [
    {
     "data": {
      "text/plain": [
       "shopId                     -0.008823\n",
       "age                        -0.164197\n",
       "areaCodeResidencialPhone    0.075034\n",
       "bestPaymentDay              0.032264\n",
       "shopRank                    0.004737\n",
       "monthsInResidence          -0.041999\n",
       "monthsInTheJob             -0.094408\n",
       "professionCode              0.030633\n",
       "mateIncome                 -0.034121\n",
       "personalNetIncome           0.003298\n",
       "BAD                         1.000000\n",
       "dtype: float64"
      ]
     },
     "execution_count": 18,
     "metadata": {},
     "output_type": "execute_result"
    }
   ],
   "source": [
    "df.corrwith(df[\"BAD\"])"
   ]
  },
  {
   "cell_type": "code",
   "execution_count": 19,
   "metadata": {},
   "outputs": [
    {
     "data": {
      "text/html": [
       "<div>\n",
       "<style scoped>\n",
       "    .dataframe tbody tr th:only-of-type {\n",
       "        vertical-align: middle;\n",
       "    }\n",
       "\n",
       "    .dataframe tbody tr th {\n",
       "        vertical-align: top;\n",
       "    }\n",
       "\n",
       "    .dataframe thead th {\n",
       "        text-align: right;\n",
       "    }\n",
       "</style>\n",
       "<table border=\"1\" class=\"dataframe\">\n",
       "  <thead>\n",
       "    <tr style=\"text-align: right;\">\n",
       "      <th></th>\n",
       "      <th>shopId</th>\n",
       "      <th>age</th>\n",
       "      <th>areaCodeResidencialPhone</th>\n",
       "      <th>bestPaymentDay</th>\n",
       "      <th>shopRank</th>\n",
       "      <th>monthsInResidence</th>\n",
       "      <th>monthsInTheJob</th>\n",
       "      <th>professionCode</th>\n",
       "      <th>mateIncome</th>\n",
       "      <th>personalNetIncome</th>\n",
       "      <th>BAD</th>\n",
       "    </tr>\n",
       "  </thead>\n",
       "  <tbody>\n",
       "    <tr>\n",
       "      <th>shopId</th>\n",
       "      <td>1.000000</td>\n",
       "      <td>0.015335</td>\n",
       "      <td>0.132957</td>\n",
       "      <td>-0.007811</td>\n",
       "      <td>0.005771</td>\n",
       "      <td>0.034667</td>\n",
       "      <td>0.047412</td>\n",
       "      <td>-0.000304</td>\n",
       "      <td>0.016689</td>\n",
       "      <td>-0.001533</td>\n",
       "      <td>-0.008823</td>\n",
       "    </tr>\n",
       "    <tr>\n",
       "      <th>age</th>\n",
       "      <td>0.015335</td>\n",
       "      <td>1.000000</td>\n",
       "      <td>-0.014595</td>\n",
       "      <td>-0.007643</td>\n",
       "      <td>-0.030720</td>\n",
       "      <td>0.251562</td>\n",
       "      <td>0.362443</td>\n",
       "      <td>-0.076912</td>\n",
       "      <td>0.048822</td>\n",
       "      <td>-0.011309</td>\n",
       "      <td>-0.164197</td>\n",
       "    </tr>\n",
       "    <tr>\n",
       "      <th>areaCodeResidencialPhone</th>\n",
       "      <td>0.132957</td>\n",
       "      <td>-0.014595</td>\n",
       "      <td>1.000000</td>\n",
       "      <td>0.024379</td>\n",
       "      <td>-0.015896</td>\n",
       "      <td>0.015471</td>\n",
       "      <td>-0.000869</td>\n",
       "      <td>-0.007889</td>\n",
       "      <td>-0.030225</td>\n",
       "      <td>-0.001419</td>\n",
       "      <td>0.075034</td>\n",
       "    </tr>\n",
       "    <tr>\n",
       "      <th>bestPaymentDay</th>\n",
       "      <td>-0.007811</td>\n",
       "      <td>-0.007643</td>\n",
       "      <td>0.024379</td>\n",
       "      <td>1.000000</td>\n",
       "      <td>-0.001570</td>\n",
       "      <td>0.008805</td>\n",
       "      <td>-0.026680</td>\n",
       "      <td>0.015927</td>\n",
       "      <td>-0.005047</td>\n",
       "      <td>0.004157</td>\n",
       "      <td>0.032264</td>\n",
       "    </tr>\n",
       "    <tr>\n",
       "      <th>shopRank</th>\n",
       "      <td>0.005771</td>\n",
       "      <td>-0.030720</td>\n",
       "      <td>-0.015896</td>\n",
       "      <td>-0.001570</td>\n",
       "      <td>1.000000</td>\n",
       "      <td>-0.005200</td>\n",
       "      <td>-0.027294</td>\n",
       "      <td>-0.003108</td>\n",
       "      <td>-0.006404</td>\n",
       "      <td>-0.001465</td>\n",
       "      <td>0.004737</td>\n",
       "    </tr>\n",
       "    <tr>\n",
       "      <th>monthsInResidence</th>\n",
       "      <td>0.034667</td>\n",
       "      <td>0.251562</td>\n",
       "      <td>0.015471</td>\n",
       "      <td>0.008805</td>\n",
       "      <td>-0.005200</td>\n",
       "      <td>1.000000</td>\n",
       "      <td>0.100264</td>\n",
       "      <td>-0.018617</td>\n",
       "      <td>-0.014166</td>\n",
       "      <td>-0.004490</td>\n",
       "      <td>-0.041999</td>\n",
       "    </tr>\n",
       "    <tr>\n",
       "      <th>monthsInTheJob</th>\n",
       "      <td>0.047412</td>\n",
       "      <td>0.362443</td>\n",
       "      <td>-0.000869</td>\n",
       "      <td>-0.026680</td>\n",
       "      <td>-0.027294</td>\n",
       "      <td>0.100264</td>\n",
       "      <td>1.000000</td>\n",
       "      <td>-0.024750</td>\n",
       "      <td>0.001580</td>\n",
       "      <td>-0.007395</td>\n",
       "      <td>-0.094408</td>\n",
       "    </tr>\n",
       "    <tr>\n",
       "      <th>professionCode</th>\n",
       "      <td>-0.000304</td>\n",
       "      <td>-0.076912</td>\n",
       "      <td>-0.007889</td>\n",
       "      <td>0.015927</td>\n",
       "      <td>-0.003108</td>\n",
       "      <td>-0.018617</td>\n",
       "      <td>-0.024750</td>\n",
       "      <td>1.000000</td>\n",
       "      <td>0.037413</td>\n",
       "      <td>-0.002910</td>\n",
       "      <td>0.030633</td>\n",
       "    </tr>\n",
       "    <tr>\n",
       "      <th>mateIncome</th>\n",
       "      <td>0.016689</td>\n",
       "      <td>0.048822</td>\n",
       "      <td>-0.030225</td>\n",
       "      <td>-0.005047</td>\n",
       "      <td>-0.006404</td>\n",
       "      <td>-0.014166</td>\n",
       "      <td>0.001580</td>\n",
       "      <td>0.037413</td>\n",
       "      <td>1.000000</td>\n",
       "      <td>-0.001824</td>\n",
       "      <td>-0.034121</td>\n",
       "    </tr>\n",
       "    <tr>\n",
       "      <th>personalNetIncome</th>\n",
       "      <td>-0.001533</td>\n",
       "      <td>-0.011309</td>\n",
       "      <td>-0.001419</td>\n",
       "      <td>0.004157</td>\n",
       "      <td>-0.001465</td>\n",
       "      <td>-0.004490</td>\n",
       "      <td>-0.007395</td>\n",
       "      <td>-0.002910</td>\n",
       "      <td>-0.001824</td>\n",
       "      <td>1.000000</td>\n",
       "      <td>0.003298</td>\n",
       "    </tr>\n",
       "    <tr>\n",
       "      <th>BAD</th>\n",
       "      <td>-0.008823</td>\n",
       "      <td>-0.164197</td>\n",
       "      <td>0.075034</td>\n",
       "      <td>0.032264</td>\n",
       "      <td>0.004737</td>\n",
       "      <td>-0.041999</td>\n",
       "      <td>-0.094408</td>\n",
       "      <td>0.030633</td>\n",
       "      <td>-0.034121</td>\n",
       "      <td>0.003298</td>\n",
       "      <td>1.000000</td>\n",
       "    </tr>\n",
       "  </tbody>\n",
       "</table>\n",
       "</div>"
      ],
      "text/plain": [
       "                            shopId       age  areaCodeResidencialPhone  \\\n",
       "shopId                    1.000000  0.015335                  0.132957   \n",
       "age                       0.015335  1.000000                 -0.014595   \n",
       "areaCodeResidencialPhone  0.132957 -0.014595                  1.000000   \n",
       "bestPaymentDay           -0.007811 -0.007643                  0.024379   \n",
       "shopRank                  0.005771 -0.030720                 -0.015896   \n",
       "monthsInResidence         0.034667  0.251562                  0.015471   \n",
       "monthsInTheJob            0.047412  0.362443                 -0.000869   \n",
       "professionCode           -0.000304 -0.076912                 -0.007889   \n",
       "mateIncome                0.016689  0.048822                 -0.030225   \n",
       "personalNetIncome        -0.001533 -0.011309                 -0.001419   \n",
       "BAD                      -0.008823 -0.164197                  0.075034   \n",
       "\n",
       "                          bestPaymentDay  shopRank  monthsInResidence  \\\n",
       "shopId                         -0.007811  0.005771           0.034667   \n",
       "age                            -0.007643 -0.030720           0.251562   \n",
       "areaCodeResidencialPhone        0.024379 -0.015896           0.015471   \n",
       "bestPaymentDay                  1.000000 -0.001570           0.008805   \n",
       "shopRank                       -0.001570  1.000000          -0.005200   \n",
       "monthsInResidence               0.008805 -0.005200           1.000000   \n",
       "monthsInTheJob                 -0.026680 -0.027294           0.100264   \n",
       "professionCode                  0.015927 -0.003108          -0.018617   \n",
       "mateIncome                     -0.005047 -0.006404          -0.014166   \n",
       "personalNetIncome               0.004157 -0.001465          -0.004490   \n",
       "BAD                             0.032264  0.004737          -0.041999   \n",
       "\n",
       "                          monthsInTheJob  professionCode  mateIncome  \\\n",
       "shopId                          0.047412       -0.000304    0.016689   \n",
       "age                             0.362443       -0.076912    0.048822   \n",
       "areaCodeResidencialPhone       -0.000869       -0.007889   -0.030225   \n",
       "bestPaymentDay                 -0.026680        0.015927   -0.005047   \n",
       "shopRank                       -0.027294       -0.003108   -0.006404   \n",
       "monthsInResidence               0.100264       -0.018617   -0.014166   \n",
       "monthsInTheJob                  1.000000       -0.024750    0.001580   \n",
       "professionCode                 -0.024750        1.000000    0.037413   \n",
       "mateIncome                      0.001580        0.037413    1.000000   \n",
       "personalNetIncome              -0.007395       -0.002910   -0.001824   \n",
       "BAD                            -0.094408        0.030633   -0.034121   \n",
       "\n",
       "                          personalNetIncome       BAD  \n",
       "shopId                            -0.001533 -0.008823  \n",
       "age                               -0.011309 -0.164197  \n",
       "areaCodeResidencialPhone          -0.001419  0.075034  \n",
       "bestPaymentDay                     0.004157  0.032264  \n",
       "shopRank                          -0.001465  0.004737  \n",
       "monthsInResidence                 -0.004490 -0.041999  \n",
       "monthsInTheJob                    -0.007395 -0.094408  \n",
       "professionCode                    -0.002910  0.030633  \n",
       "mateIncome                        -0.001824 -0.034121  \n",
       "personalNetIncome                  1.000000  0.003298  \n",
       "BAD                                0.003298  1.000000  "
      ]
     },
     "execution_count": 19,
     "metadata": {},
     "output_type": "execute_result"
    }
   ],
   "source": [
    "df.corr()"
   ]
  },
  {
   "cell_type": "code",
   "execution_count": 20,
   "metadata": {},
   "outputs": [
    {
     "data": {
      "image/png": "[encoded data removed]",
      "text/plain": [
       "<Figure size 864x720 with 2 Axes>"
      ]
     },
     "metadata": {
      "needs_background": "light"
     },
     "output_type": "display_data"
    }
   ],
   "source": [
    "plt.figure(figsize=(12, 10))\n",
    "cor = df.corr()\n",
    "sns.heatmap(cor, annot=True, cmap='RdYlBu_r')\n",
    "plt.show()"
   ]
  },
  {
   "cell_type": "markdown",
   "metadata": {},
   "source": [
    "O Heatmap nos mostra que as variáveis não possuem informações muito parecidas, então parece estar tudo ok a partir daqui."
   ]
  },
  {
   "cell_type": "markdown",
   "metadata": {},
   "source": [
    "## Preprocessamento, pipelines e modelo"
   ]
  },
  {
   "cell_type": "code",
   "execution_count": 21,
   "metadata": {},
   "outputs": [],
   "source": [
    "from sklearn.model_selection import train_test_split\n",
    "from sklearn.compose import ColumnTransformer\n",
    "from sklearn.pipeline import Pipeline\n",
    "from sklearn.preprocessing import StandardScaler\n",
    "from sklearn.preprocessing import OneHotEncoder\n",
    "from sklearn.impute import SimpleImputer\n",
    "from sklearn.metrics import accuracy_score"
   ]
  },
  {
   "cell_type": "markdown",
   "metadata": {},
   "source": [
    "## TESTAR VÁRIOS SCALERS TAMBEM TALVEZ FAZER UMA FUNCAO QUE PERMITA TESTAR VARIAS COISAS NAS PIPELINES"
   ]
  },
  {
   "cell_type": "code",
   "execution_count": 22,
   "metadata": {},
   "outputs": [],
   "source": [
    "features = ['shopId', 'maritalStatus', 'age', 'flagResidencialPhone',\n",
    "       'areaCodeResidencialPhone', 'bestPaymentDay', 'shopRank',\n",
    "       'residenceType', 'monthsInResidence', 'flagMothersName',\n",
    "       'flagFathersName', 'flagResidenceTown_WorkingTown',\n",
    "       'flagResidenceState_WorkingState', 'monthsInTheJob', 'professionCode',\n",
    "       'mateIncome', 'flagResidencialAddress_PostalAddress',\n",
    "       'personalNetIncome']\n",
    "\n",
    "# Features de treino\n",
    "df_features = df[features]\n",
    "X = pd.DataFrame(df_features)\n",
    "\n",
    "# Target\n",
    "y = df.BAD"
   ]
  },
  {
   "cell_type": "code",
   "execution_count": 23,
   "metadata": {},
   "outputs": [],
   "source": [
    "X_train, X_valid, y_train, y_valid = train_test_split(X, y, train_size=0.8, test_size=0.2, random_state=0)"
   ]
  },
  {
   "cell_type": "code",
   "execution_count": 24,
   "metadata": {},
   "outputs": [
    {
     "name": "stdout",
     "output_type": "stream",
     "text": [
      "['maritalStatus', 'flagResidencialPhone', 'residenceType', 'flagMothersName', 'flagFathersName', 'flagResidenceTown_WorkingTown', 'flagResidenceState_WorkingState', 'flagResidencialAddress_PostalAddress', 'professionCode', 'areaCodeResidencialPhone', 'shopId']\n"
     ]
    }
   ],
   "source": [
    "# Selecionando colunas categóricas\n",
    "categorical_cols = [cname for cname in X_train.columns if X_train[cname].dtype == 'object']\n",
    "categorical_cols.append('professionCode')\n",
    "categorical_cols.append('areaCodeResidencialPhone')\n",
    "categorical_cols.append('shopId')\n",
    "print(categorical_cols)"
   ]
  },
  {
   "cell_type": "code",
   "execution_count": 25,
   "metadata": {},
   "outputs": [
    {
     "name": "stdout",
     "output_type": "stream",
     "text": [
      "['age', 'bestPaymentDay', 'shopRank', 'monthsInResidence', 'monthsInTheJob', 'mateIncome', 'personalNetIncome']\n"
     ]
    }
   ],
   "source": [
    "# Selecionando colunas numéricas\n",
    "numerical_cols = [cname for cname in X_train.columns if X_train[cname].dtype in ['int64', 'float64']]\n",
    "numerical_cols.remove('professionCode')\n",
    "numerical_cols.remove('areaCodeResidencialPhone')\n",
    "numerical_cols.remove('shopId')\n",
    "print(numerical_cols)"
   ]
  },
  {
   "cell_type": "code",
   "execution_count": 26,
   "metadata": {},
   "outputs": [],
   "source": [
    "categorical_transform = Pipeline(steps = [('imputer', SimpleImputer(strategy = 'most_frequent')),\n",
    "                                          ('onehot', OneHotEncoder(handle_unknown='ignore'))])"
   ]
  },
  {
   "cell_type": "code",
   "execution_count": 27,
   "metadata": {},
   "outputs": [],
   "source": [
    "numerical_transform = Pipeline(steps = [('scaler', StandardScaler()),\n",
    "                                        ('imputer', SimpleImputer(strategy='median'))])"
   ]
  },
  {
   "cell_type": "code",
   "execution_count": 28,
   "metadata": {},
   "outputs": [],
   "source": [
    "preprocessor = ColumnTransformer(transformers = [('num', numerical_transform, numerical_cols),\n",
    "                                                 ('cat', categorical_transform, categorical_cols)])"
   ]
  },
  {
   "cell_type": "code",
   "execution_count": 29,
   "metadata": {},
   "outputs": [],
   "source": [
    "from sklearn.metrics import accuracy_score, log_loss\n",
    "from sklearn.neighbors import KNeighborsClassifier\n",
    "from sklearn.tree import DecisionTreeClassifier\n",
    "from sklearn.ensemble import (\n",
    "    RandomForestClassifier,\n",
    "    AdaBoostClassifier,\n",
    "    GradientBoostingClassifier,\n",
    ")\n",
    "from sklearn.linear_model import LogisticRegression"
   ]
  },
  {
   "cell_type": "code",
   "execution_count": 30,
   "metadata": {},
   "outputs": [],
   "source": [
    "models_list = [\n",
    "    KNeighborsClassifier(3),\n",
    "    LogisticRegression(random_state=0, max_iter=1000),\n",
    "    DecisionTreeClassifier(),\n",
    "    RandomForestClassifier(),\n",
    "    AdaBoostClassifier(),\n",
    "    GradientBoostingClassifier()\n",
    "]"
   ]
  },
  {
   "cell_type": "code",
   "execution_count": 31,
   "metadata": {
    "scrolled": true
   },
   "outputs": [
    {
     "name": "stdout",
     "output_type": "stream",
     "text": [
      "Modelo:  KNeighborsClassifier(n_neighbors=3)\n",
      "Score do modelo:  0.756\n",
      "Modelo:  LogisticRegression(max_iter=1000, random_state=0)\n",
      "Score do modelo:  0.803625\n",
      "Modelo:  DecisionTreeClassifier()\n",
      "Score do modelo:  0.70775\n",
      "Modelo:  RandomForestClassifier()\n",
      "Score do modelo:  0.80225\n",
      "Modelo:  AdaBoostClassifier()\n",
      "Score do modelo:  0.8055\n",
      "Modelo:  GradientBoostingClassifier()\n",
      "Score do modelo:  0.80475\n"
     ]
    }
   ],
   "source": [
    "for model in models_list:\n",
    "    p1 = Pipeline(steps=[('preprocessorlr', preprocessor), ('model', model)])\n",
    "    p1.fit(X_train, y_train)\n",
    "    print('Modelo: ', model)\n",
    "    print('Score do modelo: ', p1.score(X_valid, y_valid))"
   ]
  },
  {
   "cell_type": "code",
   "execution_count": null,
   "metadata": {},
   "outputs": [],
   "source": []
  }
 ],
 "metadata": {
  "kernelspec": {
   "display_name": "Python 3",
   "language": "python",
   "name": "python3"
  },
  "language_info": {
   "codemirror_mode": {
    "name": "ipython",
    "version": 3
   },
   "file_extension": ".py",
   "mimetype": "text/x-python",
   "name": "python",
   "nbconvert_exporter": "python",
   "pygments_lexer": "ipython3",
   "version": "3.8.8"
  }
 },
 "nbformat": 4,
 "nbformat_minor": 4
}
